{
 "cells": [
  {
   "cell_type": "markdown",
   "id": "e179733c",
   "metadata": {},
   "source": [
    "# Time Series for Weather and Glaciers Surface Mass Balance Prediction"
   ]
  },
  {
   "cell_type": "markdown",
   "id": "9b75c527",
   "metadata": {},
   "source": [
    "## Index\n",
    " \n",
    "* [Introduction](#Introduction)\n",
    "* [Libraries](#Libraries)\n",
    "* [Data](#Data)\n",
    "    * [Annual SMB](#Annual-SMB)\n",
    "        * [Ablation](#Ablation)\n",
    "        * [Accumulation](#Accumulation)\n",
    "    * [Weather Data](#Weather-Data)\n",
    "* [Cleaning and Wrangling](#Cleaning-and-Wrangling)\n",
    "    * [Columns selection](#Columns-selection)\n",
    "    * [Headers standarizing](#Headers-standarizing)\n",
    "    * [Data types change](#Data-types-change)\n",
    "    * [Outliers](#Outliers)\n",
    "    * [Null Values](#Null-Values)\n",
    "    * [New Tables](#New-Tables)\n",
    "* [Visualizations](#Visualizations)\n",
    "    * [Ablation](#Ablation)\n",
    "    * [Accumulation](#Accumulation)\n",
    "    * [Meteo Seasonality](#Meteo-Seasonality)\n",
    "* [Time Series Model](#Time-Series-Model)\n",
    "    * [ARIMA](#ARIMA)\n",
    "        * [Temperature](#Temperature)\n",
    "    * [Store Dataframes](#Store-Dataframes)"
   ]
  },
  {
   "cell_type": "markdown",
   "id": "47b3ebcd",
   "metadata": {},
   "source": [
    "## Introduction\n",
    "\n",
    "Glaciers represent more than 2% of earth's water volume. They play an important environmental role and climate change accelerates its natural melting process.\n",
    "\n",
    "Surface Mass Balance (SMB) is the mesure to analyse glaciers mass changes in time, comparing the ice and snow addition (accumulation) and loss (ablation).\n",
    "\n",
    "The target of this study is to create a predictive model SMB's future changes related to the climate change.\n",
    "\n",
    "We will use the dataset of Mer de Glace, a glacier placed in Chamonix Valley (French Alps) and the weather dataset of Argentière. This database is been provided by GLACIOCLIM.\n",
    "\n",
    "Stakes in strategical points have been used to mesure parameters such as altitude, speed of glacier movement, width, accumulation and ablation.\n"
   ]
  },
  {
   "cell_type": "markdown",
   "id": "7fe6971e",
   "metadata": {},
   "source": [
    "## Libraries"
   ]
  },
  {
   "cell_type": "code",
   "execution_count": 1,
   "id": "904c8305",
   "metadata": {},
   "outputs": [],
   "source": [
    "import pandas as pd\n",
    "import os\n",
    "import matplotlib.pyplot as plt\n",
    "import seaborn as sns\n",
    "import statsmodels.api as sm\n",
    "from statsmodels.tsa.arima.model import ARIMA\n",
    "from pandas.plotting import lag_plot\n",
    "from statsmodels.tsa.stattools import adfuller"
   ]
  },
  {
   "cell_type": "markdown",
   "id": "7c405235",
   "metadata": {},
   "source": [
    "## Data"
   ]
  },
  {
   "cell_type": "markdown",
   "id": "07c56139",
   "metadata": {},
   "source": [
    "### Annual SMB"
   ]
  },
  {
   "cell_type": "markdown",
   "id": "0f61e351",
   "metadata": {},
   "source": [
    "#### Ablation"
   ]
  },
  {
   "cell_type": "code",
   "execution_count": 3,
   "id": "f13a5cf2",
   "metadata": {},
   "outputs": [
    {
     "data": {
      "text/html": [
       "<div>\n",
       "<style scoped>\n",
       "    .dataframe tbody tr th:only-of-type {\n",
       "        vertical-align: middle;\n",
       "    }\n",
       "\n",
       "    .dataframe tbody tr th {\n",
       "        vertical-align: top;\n",
       "    }\n",
       "\n",
       "    .dataframe thead th {\n",
       "        text-align: right;\n",
       "    }\n",
       "</style>\n",
       "<table border=\"1\" class=\"dataframe\">\n",
       "  <thead>\n",
       "    <tr style=\"text-align: right;\">\n",
       "      <th></th>\n",
       "      <th>index</th>\n",
       "      <th>profile_name</th>\n",
       "      <th>stake_year_setup</th>\n",
       "      <th>stake_number</th>\n",
       "      <th>day_start</th>\n",
       "      <th>month_start</th>\n",
       "      <th>year_start</th>\n",
       "      <th>day_end</th>\n",
       "      <th>month_end</th>\n",
       "      <th>year_end</th>\n",
       "      <th>x_lambert2e</th>\n",
       "      <th>y_lambert2e</th>\n",
       "      <th>altitude</th>\n",
       "      <th>annual_smb</th>\n",
       "    </tr>\n",
       "  </thead>\n",
       "  <tbody>\n",
       "    <tr>\n",
       "      <th>0</th>\n",
       "      <td>0</td>\n",
       "      <td>Langue</td>\n",
       "      <td>1995</td>\n",
       "      <td>1</td>\n",
       "      <td>17</td>\n",
       "      <td>10</td>\n",
       "      <td>1995</td>\n",
       "      <td>3</td>\n",
       "      <td>11</td>\n",
       "      <td>1996</td>\n",
       "      <td>957173.68</td>\n",
       "      <td>111221.57</td>\n",
       "      <td>2074.93</td>\n",
       "      <td>-5.49</td>\n",
       "    </tr>\n",
       "    <tr>\n",
       "      <th>1</th>\n",
       "      <td>1</td>\n",
       "      <td>Langue</td>\n",
       "      <td>1995</td>\n",
       "      <td>3</td>\n",
       "      <td>17</td>\n",
       "      <td>10</td>\n",
       "      <td>1995</td>\n",
       "      <td>3</td>\n",
       "      <td>11</td>\n",
       "      <td>1996</td>\n",
       "      <td>956949.63</td>\n",
       "      <td>111887.49</td>\n",
       "      <td>2018.92</td>\n",
       "      <td>-6.07</td>\n",
       "    </tr>\n",
       "    <tr>\n",
       "      <th>2</th>\n",
       "      <td>2</td>\n",
       "      <td>Langue</td>\n",
       "      <td>1995</td>\n",
       "      <td>5</td>\n",
       "      <td>17</td>\n",
       "      <td>10</td>\n",
       "      <td>1995</td>\n",
       "      <td>3</td>\n",
       "      <td>11</td>\n",
       "      <td>1996</td>\n",
       "      <td>956731.47</td>\n",
       "      <td>112174.26</td>\n",
       "      <td>1990.57</td>\n",
       "      <td>-6.43</td>\n",
       "    </tr>\n",
       "    <tr>\n",
       "      <th>3</th>\n",
       "      <td>3</td>\n",
       "      <td>Langue</td>\n",
       "      <td>1995</td>\n",
       "      <td>6</td>\n",
       "      <td>17</td>\n",
       "      <td>10</td>\n",
       "      <td>1995</td>\n",
       "      <td>3</td>\n",
       "      <td>11</td>\n",
       "      <td>1996</td>\n",
       "      <td>955620.00</td>\n",
       "      <td>113106.86</td>\n",
       "      <td>1834.55</td>\n",
       "      <td>-8.68</td>\n",
       "    </tr>\n",
       "    <tr>\n",
       "      <th>4</th>\n",
       "      <td>4</td>\n",
       "      <td>Langue</td>\n",
       "      <td>1995</td>\n",
       "      <td>8</td>\n",
       "      <td>17</td>\n",
       "      <td>10</td>\n",
       "      <td>1995</td>\n",
       "      <td>3</td>\n",
       "      <td>11</td>\n",
       "      <td>1996</td>\n",
       "      <td>955545.88</td>\n",
       "      <td>113970.62</td>\n",
       "      <td>1715.02</td>\n",
       "      <td>-9.22</td>\n",
       "    </tr>\n",
       "    <tr>\n",
       "      <th>...</th>\n",
       "      <td>...</td>\n",
       "      <td>...</td>\n",
       "      <td>...</td>\n",
       "      <td>...</td>\n",
       "      <td>...</td>\n",
       "      <td>...</td>\n",
       "      <td>...</td>\n",
       "      <td>...</td>\n",
       "      <td>...</td>\n",
       "      <td>...</td>\n",
       "      <td>...</td>\n",
       "      <td>...</td>\n",
       "      <td>...</td>\n",
       "      <td>...</td>\n",
       "    </tr>\n",
       "    <tr>\n",
       "      <th>157</th>\n",
       "      <td>0</td>\n",
       "      <td>Langue</td>\n",
       "      <td>2018</td>\n",
       "      <td>1</td>\n",
       "      <td>28</td>\n",
       "      <td>9</td>\n",
       "      <td>2018</td>\n",
       "      <td>17</td>\n",
       "      <td>10</td>\n",
       "      <td>2019</td>\n",
       "      <td>957193.35</td>\n",
       "      <td>111243.35</td>\n",
       "      <td>1985.81</td>\n",
       "      <td>-9.42</td>\n",
       "    </tr>\n",
       "    <tr>\n",
       "      <th>158</th>\n",
       "      <td>1</td>\n",
       "      <td>Langue</td>\n",
       "      <td>2018</td>\n",
       "      <td>2</td>\n",
       "      <td>28</td>\n",
       "      <td>9</td>\n",
       "      <td>2018</td>\n",
       "      <td>17</td>\n",
       "      <td>10</td>\n",
       "      <td>2019</td>\n",
       "      <td>957077.11</td>\n",
       "      <td>111520.71</td>\n",
       "      <td>1956.13</td>\n",
       "      <td>-9.13</td>\n",
       "    </tr>\n",
       "    <tr>\n",
       "      <th>159</th>\n",
       "      <td>2</td>\n",
       "      <td>Langue</td>\n",
       "      <td>2018</td>\n",
       "      <td>3</td>\n",
       "      <td>28</td>\n",
       "      <td>9</td>\n",
       "      <td>2018</td>\n",
       "      <td>17</td>\n",
       "      <td>10</td>\n",
       "      <td>2019</td>\n",
       "      <td>957036.77</td>\n",
       "      <td>111722.96</td>\n",
       "      <td>1941.11</td>\n",
       "      <td>-8.72</td>\n",
       "    </tr>\n",
       "    <tr>\n",
       "      <th>160</th>\n",
       "      <td>3</td>\n",
       "      <td>Langue</td>\n",
       "      <td>2018</td>\n",
       "      <td>7</td>\n",
       "      <td>28</td>\n",
       "      <td>9</td>\n",
       "      <td>2018</td>\n",
       "      <td>17</td>\n",
       "      <td>10</td>\n",
       "      <td>2019</td>\n",
       "      <td>955618.79</td>\n",
       "      <td>113288.54</td>\n",
       "      <td>1700.05</td>\n",
       "      <td>-9.85</td>\n",
       "    </tr>\n",
       "    <tr>\n",
       "      <th>161</th>\n",
       "      <td>4</td>\n",
       "      <td>Langue</td>\n",
       "      <td>2018</td>\n",
       "      <td>8</td>\n",
       "      <td>28</td>\n",
       "      <td>9</td>\n",
       "      <td>2018</td>\n",
       "      <td>17</td>\n",
       "      <td>10</td>\n",
       "      <td>2019</td>\n",
       "      <td>955613.31</td>\n",
       "      <td>113410.11</td>\n",
       "      <td>1685.32</td>\n",
       "      <td>-9.00</td>\n",
       "    </tr>\n",
       "  </tbody>\n",
       "</table>\n",
       "<p>162 rows × 14 columns</p>\n",
       "</div>"
      ],
      "text/plain": [
       "     index profile_name  stake_year_setup  stake_number  day_start  \\\n",
       "0        0       Langue              1995             1         17   \n",
       "1        1       Langue              1995             3         17   \n",
       "2        2       Langue              1995             5         17   \n",
       "3        3       Langue              1995             6         17   \n",
       "4        4       Langue              1995             8         17   \n",
       "..     ...          ...               ...           ...        ...   \n",
       "157      0       Langue              2018             1         28   \n",
       "158      1       Langue              2018             2         28   \n",
       "159      2       Langue              2018             3         28   \n",
       "160      3       Langue              2018             7         28   \n",
       "161      4       Langue              2018             8         28   \n",
       "\n",
       "     month_start  year_start  day_end  month_end  year_end  x_lambert2e  \\\n",
       "0             10        1995        3         11      1996    957173.68   \n",
       "1             10        1995        3         11      1996    956949.63   \n",
       "2             10        1995        3         11      1996    956731.47   \n",
       "3             10        1995        3         11      1996    955620.00   \n",
       "4             10        1995        3         11      1996    955545.88   \n",
       "..           ...         ...      ...        ...       ...          ...   \n",
       "157            9        2018       17         10      2019    957193.35   \n",
       "158            9        2018       17         10      2019    957077.11   \n",
       "159            9        2018       17         10      2019    957036.77   \n",
       "160            9        2018       17         10      2019    955618.79   \n",
       "161            9        2018       17         10      2019    955613.31   \n",
       "\n",
       "     y_lambert2e  altitude  annual_smb  \n",
       "0      111221.57   2074.93       -5.49  \n",
       "1      111887.49   2018.92       -6.07  \n",
       "2      112174.26   1990.57       -6.43  \n",
       "3      113106.86   1834.55       -8.68  \n",
       "4      113970.62   1715.02       -9.22  \n",
       "..           ...       ...         ...  \n",
       "157    111243.35   1985.81       -9.42  \n",
       "158    111520.71   1956.13       -9.13  \n",
       "159    111722.96   1941.11       -8.72  \n",
       "160    113288.54   1700.05       -9.85  \n",
       "161    113410.11   1685.32       -9.00  \n",
       "\n",
       "[162 rows x 14 columns]"
      ]
     },
     "execution_count": 3,
     "metadata": {},
     "output_type": "execute_result"
    }
   ],
   "source": [
    "file_list = [file for file in os.listdir('../datasets/Ablation Zone') if file.endswith('.csv')]\n",
    "ablation = pd.DataFrame()\n",
    "for file in file_list:\n",
    "    abl_temp = pd.read_csv(('../datasets/Ablation Zone/{}').format(file))\n",
    "    ablation = pd.concat([ablation, abl_temp], axis=0)\n",
    "\n",
    "ablation = ablation.drop_duplicates().reset_index()\n",
    "ablation"
   ]
  },
  {
   "cell_type": "markdown",
   "id": "5f19214a",
   "metadata": {},
   "source": [
    "#### Accumulation"
   ]
  },
  {
   "cell_type": "code",
   "execution_count": 4,
   "id": "7854e0de",
   "metadata": {},
   "outputs": [
    {
     "data": {
      "text/html": [
       "<div>\n",
       "<style scoped>\n",
       "    .dataframe tbody tr th:only-of-type {\n",
       "        vertical-align: middle;\n",
       "    }\n",
       "\n",
       "    .dataframe tbody tr th {\n",
       "        vertical-align: top;\n",
       "    }\n",
       "\n",
       "    .dataframe thead th {\n",
       "        text-align: right;\n",
       "    }\n",
       "</style>\n",
       "<table border=\"1\" class=\"dataframe\">\n",
       "  <thead>\n",
       "    <tr style=\"text-align: right;\">\n",
       "      <th></th>\n",
       "      <th>index</th>\n",
       "      <th>profile_name</th>\n",
       "      <th>stake_year_setup</th>\n",
       "      <th>stake_number</th>\n",
       "      <th>day_start</th>\n",
       "      <th>month_start</th>\n",
       "      <th>year_start</th>\n",
       "      <th>day_end</th>\n",
       "      <th>month_end</th>\n",
       "      <th>year_end</th>\n",
       "      <th>x_lambert2e</th>\n",
       "      <th>y_lambert2e</th>\n",
       "      <th>altitude</th>\n",
       "      <th>annual_smb</th>\n",
       "    </tr>\n",
       "  </thead>\n",
       "  <tbody>\n",
       "    <tr>\n",
       "      <th>0</th>\n",
       "      <td>0</td>\n",
       "      <td>acum</td>\n",
       "      <td>1996</td>\n",
       "      <td>1</td>\n",
       "      <td>9</td>\n",
       "      <td>9</td>\n",
       "      <td>1995</td>\n",
       "      <td>11</td>\n",
       "      <td>9</td>\n",
       "      <td>1996</td>\n",
       "      <td>953420.0</td>\n",
       "      <td>107630.0</td>\n",
       "      <td>3570.0</td>\n",
       "      <td>1.54</td>\n",
       "    </tr>\n",
       "    <tr>\n",
       "      <th>1</th>\n",
       "      <td>1</td>\n",
       "      <td>acum</td>\n",
       "      <td>1996</td>\n",
       "      <td>3</td>\n",
       "      <td>9</td>\n",
       "      <td>9</td>\n",
       "      <td>1995</td>\n",
       "      <td>11</td>\n",
       "      <td>9</td>\n",
       "      <td>1996</td>\n",
       "      <td>954320.0</td>\n",
       "      <td>106430.0</td>\n",
       "      <td>3370.0</td>\n",
       "      <td>0.69</td>\n",
       "    </tr>\n",
       "    <tr>\n",
       "      <th>2</th>\n",
       "      <td>2</td>\n",
       "      <td>acum</td>\n",
       "      <td>1996</td>\n",
       "      <td>4</td>\n",
       "      <td>9</td>\n",
       "      <td>9</td>\n",
       "      <td>1995</td>\n",
       "      <td>11</td>\n",
       "      <td>9</td>\n",
       "      <td>1996</td>\n",
       "      <td>955430.0</td>\n",
       "      <td>105770.0</td>\n",
       "      <td>3090.0</td>\n",
       "      <td>1.23</td>\n",
       "    </tr>\n",
       "    <tr>\n",
       "      <th>3</th>\n",
       "      <td>3</td>\n",
       "      <td>acum</td>\n",
       "      <td>1996</td>\n",
       "      <td>5</td>\n",
       "      <td>9</td>\n",
       "      <td>9</td>\n",
       "      <td>1995</td>\n",
       "      <td>11</td>\n",
       "      <td>9</td>\n",
       "      <td>1996</td>\n",
       "      <td>956070.0</td>\n",
       "      <td>106430.0</td>\n",
       "      <td>2930.0</td>\n",
       "      <td>0.29</td>\n",
       "    </tr>\n",
       "    <tr>\n",
       "      <th>4</th>\n",
       "      <td>4</td>\n",
       "      <td>acum</td>\n",
       "      <td>1996</td>\n",
       "      <td>6</td>\n",
       "      <td>9</td>\n",
       "      <td>9</td>\n",
       "      <td>1995</td>\n",
       "      <td>11</td>\n",
       "      <td>9</td>\n",
       "      <td>1996</td>\n",
       "      <td>955930.0</td>\n",
       "      <td>107620.0</td>\n",
       "      <td>2750.0</td>\n",
       "      <td>0.19</td>\n",
       "    </tr>\n",
       "    <tr>\n",
       "      <th>...</th>\n",
       "      <td>...</td>\n",
       "      <td>...</td>\n",
       "      <td>...</td>\n",
       "      <td>...</td>\n",
       "      <td>...</td>\n",
       "      <td>...</td>\n",
       "      <td>...</td>\n",
       "      <td>...</td>\n",
       "      <td>...</td>\n",
       "      <td>...</td>\n",
       "      <td>...</td>\n",
       "      <td>...</td>\n",
       "      <td>...</td>\n",
       "      <td>...</td>\n",
       "    </tr>\n",
       "    <tr>\n",
       "      <th>114</th>\n",
       "      <td>5</td>\n",
       "      <td>acum</td>\n",
       "      <td>2018</td>\n",
       "      <td>11</td>\n",
       "      <td>7</td>\n",
       "      <td>9</td>\n",
       "      <td>2017</td>\n",
       "      <td>5</td>\n",
       "      <td>9</td>\n",
       "      <td>2018</td>\n",
       "      <td>955863.0</td>\n",
       "      <td>106597.0</td>\n",
       "      <td>2920.0</td>\n",
       "      <td>0.84</td>\n",
       "    </tr>\n",
       "    <tr>\n",
       "      <th>115</th>\n",
       "      <td>0</td>\n",
       "      <td>acum</td>\n",
       "      <td>2019</td>\n",
       "      <td>2</td>\n",
       "      <td>5</td>\n",
       "      <td>9</td>\n",
       "      <td>2018</td>\n",
       "      <td>17</td>\n",
       "      <td>9</td>\n",
       "      <td>2019</td>\n",
       "      <td>953210.0</td>\n",
       "      <td>106820.0</td>\n",
       "      <td>3530.0</td>\n",
       "      <td>1.87</td>\n",
       "    </tr>\n",
       "    <tr>\n",
       "      <th>116</th>\n",
       "      <td>1</td>\n",
       "      <td>acum</td>\n",
       "      <td>2019</td>\n",
       "      <td>5</td>\n",
       "      <td>5</td>\n",
       "      <td>9</td>\n",
       "      <td>2018</td>\n",
       "      <td>17</td>\n",
       "      <td>9</td>\n",
       "      <td>2019</td>\n",
       "      <td>956070.0</td>\n",
       "      <td>106430.0</td>\n",
       "      <td>2930.0</td>\n",
       "      <td>0.11</td>\n",
       "    </tr>\n",
       "    <tr>\n",
       "      <th>117</th>\n",
       "      <td>2</td>\n",
       "      <td>acum</td>\n",
       "      <td>2019</td>\n",
       "      <td>9</td>\n",
       "      <td>5</td>\n",
       "      <td>9</td>\n",
       "      <td>2018</td>\n",
       "      <td>17</td>\n",
       "      <td>9</td>\n",
       "      <td>2019</td>\n",
       "      <td>954356.0</td>\n",
       "      <td>106064.0</td>\n",
       "      <td>3220.0</td>\n",
       "      <td>0.37</td>\n",
       "    </tr>\n",
       "    <tr>\n",
       "      <th>118</th>\n",
       "      <td>3</td>\n",
       "      <td>acum</td>\n",
       "      <td>2019</td>\n",
       "      <td>10</td>\n",
       "      <td>5</td>\n",
       "      <td>9</td>\n",
       "      <td>2018</td>\n",
       "      <td>17</td>\n",
       "      <td>9</td>\n",
       "      <td>2019</td>\n",
       "      <td>954792.0</td>\n",
       "      <td>105625.0</td>\n",
       "      <td>3130.0</td>\n",
       "      <td>0.30</td>\n",
       "    </tr>\n",
       "  </tbody>\n",
       "</table>\n",
       "<p>119 rows × 14 columns</p>\n",
       "</div>"
      ],
      "text/plain": [
       "     index profile_name  stake_year_setup  stake_number  day_start  \\\n",
       "0        0         acum              1996             1          9   \n",
       "1        1         acum              1996             3          9   \n",
       "2        2         acum              1996             4          9   \n",
       "3        3         acum              1996             5          9   \n",
       "4        4         acum              1996             6          9   \n",
       "..     ...          ...               ...           ...        ...   \n",
       "114      5         acum              2018            11          7   \n",
       "115      0         acum              2019             2          5   \n",
       "116      1         acum              2019             5          5   \n",
       "117      2         acum              2019             9          5   \n",
       "118      3         acum              2019            10          5   \n",
       "\n",
       "     month_start  year_start  day_end  month_end  year_end  x_lambert2e  \\\n",
       "0              9        1995       11          9      1996     953420.0   \n",
       "1              9        1995       11          9      1996     954320.0   \n",
       "2              9        1995       11          9      1996     955430.0   \n",
       "3              9        1995       11          9      1996     956070.0   \n",
       "4              9        1995       11          9      1996     955930.0   \n",
       "..           ...         ...      ...        ...       ...          ...   \n",
       "114            9        2017        5          9      2018     955863.0   \n",
       "115            9        2018       17          9      2019     953210.0   \n",
       "116            9        2018       17          9      2019     956070.0   \n",
       "117            9        2018       17          9      2019     954356.0   \n",
       "118            9        2018       17          9      2019     954792.0   \n",
       "\n",
       "     y_lambert2e  altitude  annual_smb  \n",
       "0       107630.0    3570.0        1.54  \n",
       "1       106430.0    3370.0        0.69  \n",
       "2       105770.0    3090.0        1.23  \n",
       "3       106430.0    2930.0        0.29  \n",
       "4       107620.0    2750.0        0.19  \n",
       "..           ...       ...         ...  \n",
       "114     106597.0    2920.0        0.84  \n",
       "115     106820.0    3530.0        1.87  \n",
       "116     106430.0    2930.0        0.11  \n",
       "117     106064.0    3220.0        0.37  \n",
       "118     105625.0    3130.0        0.30  \n",
       "\n",
       "[119 rows x 14 columns]"
      ]
     },
     "execution_count": 4,
     "metadata": {},
     "output_type": "execute_result"
    }
   ],
   "source": [
    "acc_list = [file for file in os.listdir('../datasets/Accumulation Zone')]\n",
    "accumulation = pd.DataFrame()\n",
    "for file in acc_list:\n",
    "    acc_temp = pd.read_csv(('../datasets/Accumulation Zone/{}').format(file))\n",
    "    accumulation = pd.concat([accumulation, acc_temp], axis=0)\n",
    "\n",
    "accumulation = accumulation.drop_duplicates().reset_index()\n",
    "accumulation"
   ]
  },
  {
   "cell_type": "markdown",
   "id": "ba8dff30",
   "metadata": {},
   "source": [
    "### Weather Data"
   ]
  },
  {
   "cell_type": "code",
   "execution_count": 5,
   "id": "30298bb2",
   "metadata": {},
   "outputs": [
    {
     "data": {
      "text/html": [
       "<div>\n",
       "<style scoped>\n",
       "    .dataframe tbody tr th:only-of-type {\n",
       "        vertical-align: middle;\n",
       "    }\n",
       "\n",
       "    .dataframe tbody tr th {\n",
       "        vertical-align: top;\n",
       "    }\n",
       "\n",
       "    .dataframe thead th {\n",
       "        text-align: right;\n",
       "    }\n",
       "</style>\n",
       "<table border=\"1\" class=\"dataframe\">\n",
       "  <thead>\n",
       "    <tr style=\"text-align: right;\">\n",
       "      <th></th>\n",
       "      <th>index</th>\n",
       "      <th>Unnamed: 0</th>\n",
       "      <th>SW inc (W/m2)</th>\n",
       "      <th>LW inc (W/m2)</th>\n",
       "      <th>RH (%)</th>\n",
       "      <th>T (°C)</th>\n",
       "      <th>Wind speed (m/s)</th>\n",
       "    </tr>\n",
       "  </thead>\n",
       "  <tbody>\n",
       "    <tr>\n",
       "      <th>0</th>\n",
       "      <td>0</td>\n",
       "      <td>2007-01-01</td>\n",
       "      <td>12.94</td>\n",
       "      <td>293.2</td>\n",
       "      <td>94.50</td>\n",
       "      <td>-3.399</td>\n",
       "      <td>6.945</td>\n",
       "    </tr>\n",
       "    <tr>\n",
       "      <th>1</th>\n",
       "      <td>1</td>\n",
       "      <td>2007-01-02</td>\n",
       "      <td>19.44</td>\n",
       "      <td>269.7</td>\n",
       "      <td>91.30</td>\n",
       "      <td>-10.450</td>\n",
       "      <td>7.530</td>\n",
       "    </tr>\n",
       "    <tr>\n",
       "      <th>2</th>\n",
       "      <td>2</td>\n",
       "      <td>2007-01-03</td>\n",
       "      <td>52.12</td>\n",
       "      <td>261.9</td>\n",
       "      <td>93.10</td>\n",
       "      <td>-7.030</td>\n",
       "      <td>2.352</td>\n",
       "    </tr>\n",
       "    <tr>\n",
       "      <th>3</th>\n",
       "      <td>3</td>\n",
       "      <td>2007-01-04</td>\n",
       "      <td>27.38</td>\n",
       "      <td>291.1</td>\n",
       "      <td>95.20</td>\n",
       "      <td>-3.753</td>\n",
       "      <td>5.173</td>\n",
       "    </tr>\n",
       "    <tr>\n",
       "      <th>4</th>\n",
       "      <td>4</td>\n",
       "      <td>2007-01-05</td>\n",
       "      <td>42.25</td>\n",
       "      <td>240.4</td>\n",
       "      <td>60.82</td>\n",
       "      <td>-3.041</td>\n",
       "      <td>2.526</td>\n",
       "    </tr>\n",
       "    <tr>\n",
       "      <th>...</th>\n",
       "      <td>...</td>\n",
       "      <td>...</td>\n",
       "      <td>...</td>\n",
       "      <td>...</td>\n",
       "      <td>...</td>\n",
       "      <td>...</td>\n",
       "      <td>...</td>\n",
       "    </tr>\n",
       "    <tr>\n",
       "      <th>4743</th>\n",
       "      <td>360</td>\n",
       "      <td>2019-12-27</td>\n",
       "      <td>32.19</td>\n",
       "      <td>252.9</td>\n",
       "      <td>89.60</td>\n",
       "      <td>-5.112</td>\n",
       "      <td>4.779</td>\n",
       "    </tr>\n",
       "    <tr>\n",
       "      <th>4744</th>\n",
       "      <td>361</td>\n",
       "      <td>2019-12-28</td>\n",
       "      <td>37.55</td>\n",
       "      <td>206.0</td>\n",
       "      <td>24.35</td>\n",
       "      <td>1.057</td>\n",
       "      <td>3.242</td>\n",
       "    </tr>\n",
       "    <tr>\n",
       "      <th>4745</th>\n",
       "      <td>362</td>\n",
       "      <td>2019-12-29</td>\n",
       "      <td>36.12</td>\n",
       "      <td>226.5</td>\n",
       "      <td>24.05</td>\n",
       "      <td>1.842</td>\n",
       "      <td>2.264</td>\n",
       "    </tr>\n",
       "    <tr>\n",
       "      <th>4746</th>\n",
       "      <td>363</td>\n",
       "      <td>2019-12-30</td>\n",
       "      <td>36.48</td>\n",
       "      <td>236.0</td>\n",
       "      <td>34.10</td>\n",
       "      <td>2.159</td>\n",
       "      <td>2.162</td>\n",
       "    </tr>\n",
       "    <tr>\n",
       "      <th>4747</th>\n",
       "      <td>364</td>\n",
       "      <td>2019-12-31</td>\n",
       "      <td>43.12</td>\n",
       "      <td>231.4</td>\n",
       "      <td>37.85</td>\n",
       "      <td>1.507</td>\n",
       "      <td>1.993</td>\n",
       "    </tr>\n",
       "  </tbody>\n",
       "</table>\n",
       "<p>4748 rows × 7 columns</p>\n",
       "</div>"
      ],
      "text/plain": [
       "      index Unnamed: 0  SW inc (W/m2)  LW inc (W/m2)  RH (%)  T (°C)  \\\n",
       "0         0 2007-01-01          12.94          293.2   94.50  -3.399   \n",
       "1         1 2007-01-02          19.44          269.7   91.30 -10.450   \n",
       "2         2 2007-01-03          52.12          261.9   93.10  -7.030   \n",
       "3         3 2007-01-04          27.38          291.1   95.20  -3.753   \n",
       "4         4 2007-01-05          42.25          240.4   60.82  -3.041   \n",
       "...     ...        ...            ...            ...     ...     ...   \n",
       "4743    360 2019-12-27          32.19          252.9   89.60  -5.112   \n",
       "4744    361 2019-12-28          37.55          206.0   24.35   1.057   \n",
       "4745    362 2019-12-29          36.12          226.5   24.05   1.842   \n",
       "4746    363 2019-12-30          36.48          236.0   34.10   2.159   \n",
       "4747    364 2019-12-31          43.12          231.4   37.85   1.507   \n",
       "\n",
       "      Wind speed (m/s)  \n",
       "0                6.945  \n",
       "1                7.530  \n",
       "2                2.352  \n",
       "3                5.173  \n",
       "4                2.526  \n",
       "...                ...  \n",
       "4743             4.779  \n",
       "4744             3.242  \n",
       "4745             2.264  \n",
       "4746             2.162  \n",
       "4747             1.993  \n",
       "\n",
       "[4748 rows x 7 columns]"
      ]
     },
     "execution_count": 5,
     "metadata": {},
     "output_type": "execute_result"
    }
   ],
   "source": [
    "file_list = [file for file in os.listdir('../datasets/Données journalières') if file.endswith('.xls')]\n",
    "meteo = pd.DataFrame()\n",
    "for file in file_list:\n",
    "    df_temp = pd.read_excel(('../datasets/Données journalières/{}').format(file))\n",
    "    meteo = pd.concat([meteo, df_temp], axis=0)\n",
    "    meteo.columns = df_temp.columns\n",
    "    \n",
    "meteo = meteo.drop_duplicates().reset_index()\n",
    "meteo"
   ]
  },
  {
   "cell_type": "markdown",
   "id": "43c3a570",
   "metadata": {},
   "source": [
    "### Cleaning and Wrangling"
   ]
  },
  {
   "cell_type": "markdown",
   "id": "22b56d67",
   "metadata": {},
   "source": [
    "#### Columns selection"
   ]
  },
  {
   "cell_type": "code",
   "execution_count": 6,
   "id": "e7b6334d",
   "metadata": {},
   "outputs": [],
   "source": [
    "ablation.drop(['stake_year_setup', 'day_start', 'month_start', 'year_start',\n",
    "               'day_end', 'month_end'], axis=1, inplace=True)\n",
    "accumulation.drop(['stake_year_setup', 'day_start', 'month_start', 'year_start',\n",
    "               'day_end', 'month_end'], axis=1, inplace=True)\n",
    "meteo.drop(['index'], axis=1, inplace=True)"
   ]
  },
  {
   "cell_type": "code",
   "execution_count": null,
   "id": "285439ee",
   "metadata": {},
   "outputs": [],
   "source": []
  },
  {
   "cell_type": "markdown",
   "id": "16f8b2c3",
   "metadata": {},
   "source": [
    "#### Headers standarizing"
   ]
  },
  {
   "cell_type": "code",
   "execution_count": 7,
   "id": "0856c218",
   "metadata": {},
   "outputs": [],
   "source": [
    "ablation.rename(columns={'year_end' : 'year', 'annual_smb' : 'ablation'}, inplace=True)\n",
    "accumulation.rename(columns={'year_end' : 'year', 'annual_smb' : 'accumulation'}, inplace=True)\n",
    "meteo.columns = [col.lower().replace(\" \", \"_\") for col in meteo.columns]\n",
    "meteo.rename(columns={'unnamed:_0' : 'date', 'sw_inc_(w/m2)' : 'sw_irrad', 'lw_inc_(w/m2)' : 'lw_irrad', 'rh_(%)' : 'humidity', 't_(°c)' : 'temperature', 'wind_speed_(m/s)' : 'wind_speed'}, inplace=True)"
   ]
  },
  {
   "cell_type": "markdown",
   "id": "448790aa",
   "metadata": {},
   "source": [
    "#### Data types change"
   ]
  },
  {
   "cell_type": "code",
   "execution_count": 8,
   "id": "f1466f0d",
   "metadata": {},
   "outputs": [
    {
     "name": "stdout",
     "output_type": "stream",
     "text": [
      "<class 'pandas.core.frame.DataFrame'>\n",
      "RangeIndex: 162 entries, 0 to 161\n",
      "Data columns (total 8 columns):\n",
      " #   Column        Non-Null Count  Dtype  \n",
      "---  ------        --------------  -----  \n",
      " 0   index         162 non-null    int64  \n",
      " 1   profile_name  162 non-null    object \n",
      " 2   stake_number  162 non-null    int64  \n",
      " 3   year          162 non-null    int64  \n",
      " 4   x_lambert2e   162 non-null    float64\n",
      " 5   y_lambert2e   162 non-null    float64\n",
      " 6   altitude      162 non-null    float64\n",
      " 7   ablation      162 non-null    float64\n",
      "dtypes: float64(4), int64(3), object(1)\n",
      "memory usage: 10.2+ KB\n"
     ]
    }
   ],
   "source": [
    "ablation.info()"
   ]
  },
  {
   "cell_type": "code",
   "execution_count": 9,
   "id": "f80cccd1",
   "metadata": {},
   "outputs": [
    {
     "name": "stdout",
     "output_type": "stream",
     "text": [
      "<class 'pandas.core.frame.DataFrame'>\n",
      "RangeIndex: 119 entries, 0 to 118\n",
      "Data columns (total 8 columns):\n",
      " #   Column        Non-Null Count  Dtype  \n",
      "---  ------        --------------  -----  \n",
      " 0   index         119 non-null    int64  \n",
      " 1   profile_name  119 non-null    object \n",
      " 2   stake_number  119 non-null    int64  \n",
      " 3   year          119 non-null    int64  \n",
      " 4   x_lambert2e   119 non-null    float64\n",
      " 5   y_lambert2e   119 non-null    float64\n",
      " 6   altitude      119 non-null    float64\n",
      " 7   accumulation  119 non-null    float64\n",
      "dtypes: float64(4), int64(3), object(1)\n",
      "memory usage: 7.6+ KB\n"
     ]
    }
   ],
   "source": [
    "accumulation.info()"
   ]
  },
  {
   "cell_type": "code",
   "execution_count": 10,
   "id": "4c9380b5",
   "metadata": {},
   "outputs": [
    {
     "name": "stdout",
     "output_type": "stream",
     "text": [
      "<class 'pandas.core.frame.DataFrame'>\n",
      "RangeIndex: 4748 entries, 0 to 4747\n",
      "Data columns (total 6 columns):\n",
      " #   Column       Non-Null Count  Dtype         \n",
      "---  ------       --------------  -----         \n",
      " 0   date         4748 non-null   datetime64[ns]\n",
      " 1   sw_irrad     4722 non-null   float64       \n",
      " 2   lw_irrad     4722 non-null   float64       \n",
      " 3   humidity     4316 non-null   float64       \n",
      " 4   temperature  4609 non-null   float64       \n",
      " 5   wind_speed   4722 non-null   float64       \n",
      "dtypes: datetime64[ns](1), float64(5)\n",
      "memory usage: 222.7 KB\n"
     ]
    }
   ],
   "source": [
    "meteo.info()"
   ]
  },
  {
   "cell_type": "code",
   "execution_count": 11,
   "id": "a0e1a356",
   "metadata": {},
   "outputs": [],
   "source": [
    "ablation['year'] = pd.to_datetime(accumulation['year'], format='%Y')\n",
    "accumulation['year'] = pd.to_datetime(accumulation['year'], format='%Y')\n",
    "meteo.index = pd.DatetimeIndex(meteo.date, freq='D')\n",
    "meteo = meteo.drop(['date'], axis=1)"
   ]
  },
  {
   "cell_type": "markdown",
   "id": "21cf4df9",
   "metadata": {},
   "source": [
    "#### Outliers"
   ]
  },
  {
   "cell_type": "code",
   "execution_count": 12,
   "id": "5ef4d6d5",
   "metadata": {},
   "outputs": [
    {
     "data": {
      "text/html": [
       "<div>\n",
       "<style scoped>\n",
       "    .dataframe tbody tr th:only-of-type {\n",
       "        vertical-align: middle;\n",
       "    }\n",
       "\n",
       "    .dataframe tbody tr th {\n",
       "        vertical-align: top;\n",
       "    }\n",
       "\n",
       "    .dataframe thead th {\n",
       "        text-align: right;\n",
       "    }\n",
       "</style>\n",
       "<table border=\"1\" class=\"dataframe\">\n",
       "  <thead>\n",
       "    <tr style=\"text-align: right;\">\n",
       "      <th></th>\n",
       "      <th>index</th>\n",
       "      <th>stake_number</th>\n",
       "      <th>x_lambert2e</th>\n",
       "      <th>y_lambert2e</th>\n",
       "      <th>altitude</th>\n",
       "      <th>ablation</th>\n",
       "    </tr>\n",
       "  </thead>\n",
       "  <tbody>\n",
       "    <tr>\n",
       "      <th>count</th>\n",
       "      <td>162.000000</td>\n",
       "      <td>162.000000</td>\n",
       "      <td>162.000000</td>\n",
       "      <td>162.000000</td>\n",
       "      <td>162.000000</td>\n",
       "      <td>162.000000</td>\n",
       "    </tr>\n",
       "    <tr>\n",
       "      <th>mean</th>\n",
       "      <td>3.141975</td>\n",
       "      <td>5.092593</td>\n",
       "      <td>956401.651420</td>\n",
       "      <td>112493.687716</td>\n",
       "      <td>1881.699321</td>\n",
       "      <td>-8.147654</td>\n",
       "    </tr>\n",
       "    <tr>\n",
       "      <th>std</th>\n",
       "      <td>2.272895</td>\n",
       "      <td>3.041750</td>\n",
       "      <td>705.957084</td>\n",
       "      <td>996.031360</td>\n",
       "      <td>138.913846</td>\n",
       "      <td>1.667987</td>\n",
       "    </tr>\n",
       "    <tr>\n",
       "      <th>min</th>\n",
       "      <td>0.000000</td>\n",
       "      <td>1.000000</td>\n",
       "      <td>955400.000000</td>\n",
       "      <td>111209.900000</td>\n",
       "      <td>1610.650000</td>\n",
       "      <td>-11.920000</td>\n",
       "    </tr>\n",
       "    <tr>\n",
       "      <th>25%</th>\n",
       "      <td>1.000000</td>\n",
       "      <td>2.250000</td>\n",
       "      <td>955622.342500</td>\n",
       "      <td>111580.057500</td>\n",
       "      <td>1740.587500</td>\n",
       "      <td>-9.527500</td>\n",
       "    </tr>\n",
       "    <tr>\n",
       "      <th>50%</th>\n",
       "      <td>3.000000</td>\n",
       "      <td>5.000000</td>\n",
       "      <td>956721.775000</td>\n",
       "      <td>112202.795000</td>\n",
       "      <td>1951.880000</td>\n",
       "      <td>-7.900000</td>\n",
       "    </tr>\n",
       "    <tr>\n",
       "      <th>75%</th>\n",
       "      <td>5.000000</td>\n",
       "      <td>7.750000</td>\n",
       "      <td>957048.295000</td>\n",
       "      <td>113312.210000</td>\n",
       "      <td>1995.835000</td>\n",
       "      <td>-6.802500</td>\n",
       "    </tr>\n",
       "    <tr>\n",
       "      <th>max</th>\n",
       "      <td>9.000000</td>\n",
       "      <td>14.000000</td>\n",
       "      <td>957202.020000</td>\n",
       "      <td>114450.000000</td>\n",
       "      <td>2074.930000</td>\n",
       "      <td>-1.120000</td>\n",
       "    </tr>\n",
       "  </tbody>\n",
       "</table>\n",
       "</div>"
      ],
      "text/plain": [
       "            index  stake_number    x_lambert2e    y_lambert2e     altitude  \\\n",
       "count  162.000000    162.000000     162.000000     162.000000   162.000000   \n",
       "mean     3.141975      5.092593  956401.651420  112493.687716  1881.699321   \n",
       "std      2.272895      3.041750     705.957084     996.031360   138.913846   \n",
       "min      0.000000      1.000000  955400.000000  111209.900000  1610.650000   \n",
       "25%      1.000000      2.250000  955622.342500  111580.057500  1740.587500   \n",
       "50%      3.000000      5.000000  956721.775000  112202.795000  1951.880000   \n",
       "75%      5.000000      7.750000  957048.295000  113312.210000  1995.835000   \n",
       "max      9.000000     14.000000  957202.020000  114450.000000  2074.930000   \n",
       "\n",
       "         ablation  \n",
       "count  162.000000  \n",
       "mean    -8.147654  \n",
       "std      1.667987  \n",
       "min    -11.920000  \n",
       "25%     -9.527500  \n",
       "50%     -7.900000  \n",
       "75%     -6.802500  \n",
       "max     -1.120000  "
      ]
     },
     "execution_count": 12,
     "metadata": {},
     "output_type": "execute_result"
    }
   ],
   "source": [
    "ablation.describe()"
   ]
  },
  {
   "cell_type": "code",
   "execution_count": 13,
   "id": "077fd309",
   "metadata": {},
   "outputs": [
    {
     "data": {
      "text/html": [
       "<div>\n",
       "<style scoped>\n",
       "    .dataframe tbody tr th:only-of-type {\n",
       "        vertical-align: middle;\n",
       "    }\n",
       "\n",
       "    .dataframe tbody tr th {\n",
       "        vertical-align: top;\n",
       "    }\n",
       "\n",
       "    .dataframe thead th {\n",
       "        text-align: right;\n",
       "    }\n",
       "</style>\n",
       "<table border=\"1\" class=\"dataframe\">\n",
       "  <thead>\n",
       "    <tr style=\"text-align: right;\">\n",
       "      <th></th>\n",
       "      <th>index</th>\n",
       "      <th>stake_number</th>\n",
       "      <th>x_lambert2e</th>\n",
       "      <th>y_lambert2e</th>\n",
       "      <th>altitude</th>\n",
       "      <th>accumulation</th>\n",
       "    </tr>\n",
       "  </thead>\n",
       "  <tbody>\n",
       "    <tr>\n",
       "      <th>count</th>\n",
       "      <td>119.000000</td>\n",
       "      <td>119.000000</td>\n",
       "      <td>119.000000</td>\n",
       "      <td>119.000000</td>\n",
       "      <td>119.000000</td>\n",
       "      <td>119.000000</td>\n",
       "    </tr>\n",
       "    <tr>\n",
       "      <th>mean</th>\n",
       "      <td>2.235294</td>\n",
       "      <td>6.084034</td>\n",
       "      <td>954961.000000</td>\n",
       "      <td>106266.546218</td>\n",
       "      <td>3169.327731</td>\n",
       "      <td>1.066555</td>\n",
       "    </tr>\n",
       "    <tr>\n",
       "      <th>std</th>\n",
       "      <td>1.764556</td>\n",
       "      <td>3.240579</td>\n",
       "      <td>1053.759058</td>\n",
       "      <td>643.833945</td>\n",
       "      <td>223.753538</td>\n",
       "      <td>0.800619</td>\n",
       "    </tr>\n",
       "    <tr>\n",
       "      <th>min</th>\n",
       "      <td>0.000000</td>\n",
       "      <td>1.000000</td>\n",
       "      <td>953210.000000</td>\n",
       "      <td>105080.000000</td>\n",
       "      <td>2740.000000</td>\n",
       "      <td>-0.670000</td>\n",
       "    </tr>\n",
       "    <tr>\n",
       "      <th>25%</th>\n",
       "      <td>1.000000</td>\n",
       "      <td>4.000000</td>\n",
       "      <td>954356.000000</td>\n",
       "      <td>105770.000000</td>\n",
       "      <td>2930.000000</td>\n",
       "      <td>0.495000</td>\n",
       "    </tr>\n",
       "    <tr>\n",
       "      <th>50%</th>\n",
       "      <td>2.000000</td>\n",
       "      <td>5.000000</td>\n",
       "      <td>954792.000000</td>\n",
       "      <td>106064.000000</td>\n",
       "      <td>3130.000000</td>\n",
       "      <td>0.950000</td>\n",
       "    </tr>\n",
       "    <tr>\n",
       "      <th>75%</th>\n",
       "      <td>3.000000</td>\n",
       "      <td>9.000000</td>\n",
       "      <td>955863.000000</td>\n",
       "      <td>106597.000000</td>\n",
       "      <td>3260.000000</td>\n",
       "      <td>1.495000</td>\n",
       "    </tr>\n",
       "    <tr>\n",
       "      <th>max</th>\n",
       "      <td>7.000000</td>\n",
       "      <td>11.000000</td>\n",
       "      <td>957270.000000</td>\n",
       "      <td>107630.000000</td>\n",
       "      <td>3570.000000</td>\n",
       "      <td>3.190000</td>\n",
       "    </tr>\n",
       "  </tbody>\n",
       "</table>\n",
       "</div>"
      ],
      "text/plain": [
       "            index  stake_number    x_lambert2e    y_lambert2e     altitude  \\\n",
       "count  119.000000    119.000000     119.000000     119.000000   119.000000   \n",
       "mean     2.235294      6.084034  954961.000000  106266.546218  3169.327731   \n",
       "std      1.764556      3.240579    1053.759058     643.833945   223.753538   \n",
       "min      0.000000      1.000000  953210.000000  105080.000000  2740.000000   \n",
       "25%      1.000000      4.000000  954356.000000  105770.000000  2930.000000   \n",
       "50%      2.000000      5.000000  954792.000000  106064.000000  3130.000000   \n",
       "75%      3.000000      9.000000  955863.000000  106597.000000  3260.000000   \n",
       "max      7.000000     11.000000  957270.000000  107630.000000  3570.000000   \n",
       "\n",
       "       accumulation  \n",
       "count    119.000000  \n",
       "mean       1.066555  \n",
       "std        0.800619  \n",
       "min       -0.670000  \n",
       "25%        0.495000  \n",
       "50%        0.950000  \n",
       "75%        1.495000  \n",
       "max        3.190000  "
      ]
     },
     "execution_count": 13,
     "metadata": {},
     "output_type": "execute_result"
    }
   ],
   "source": [
    "accumulation.describe()"
   ]
  },
  {
   "cell_type": "code",
   "execution_count": 14,
   "id": "3710a512",
   "metadata": {},
   "outputs": [
    {
     "data": {
      "text/html": [
       "<div>\n",
       "<style scoped>\n",
       "    .dataframe tbody tr th:only-of-type {\n",
       "        vertical-align: middle;\n",
       "    }\n",
       "\n",
       "    .dataframe tbody tr th {\n",
       "        vertical-align: top;\n",
       "    }\n",
       "\n",
       "    .dataframe thead th {\n",
       "        text-align: right;\n",
       "    }\n",
       "</style>\n",
       "<table border=\"1\" class=\"dataframe\">\n",
       "  <thead>\n",
       "    <tr style=\"text-align: right;\">\n",
       "      <th></th>\n",
       "      <th>sw_irrad</th>\n",
       "      <th>lw_irrad</th>\n",
       "      <th>humidity</th>\n",
       "      <th>temperature</th>\n",
       "      <th>wind_speed</th>\n",
       "    </tr>\n",
       "  </thead>\n",
       "  <tbody>\n",
       "    <tr>\n",
       "      <th>count</th>\n",
       "      <td>4722.000000</td>\n",
       "      <td>4722.000000</td>\n",
       "      <td>4316.000000</td>\n",
       "      <td>4609.000000</td>\n",
       "      <td>4722.000000</td>\n",
       "    </tr>\n",
       "    <tr>\n",
       "      <th>mean</th>\n",
       "      <td>150.303213</td>\n",
       "      <td>277.060779</td>\n",
       "      <td>62.628214</td>\n",
       "      <td>-9.595999</td>\n",
       "      <td>2.901138</td>\n",
       "    </tr>\n",
       "    <tr>\n",
       "      <th>std</th>\n",
       "      <td>272.167973</td>\n",
       "      <td>243.001406</td>\n",
       "      <td>153.481799</td>\n",
       "      <td>272.703525</td>\n",
       "      <td>1.743156</td>\n",
       "    </tr>\n",
       "    <tr>\n",
       "      <th>min</th>\n",
       "      <td>-6999.000000</td>\n",
       "      <td>149.400000</td>\n",
       "      <td>-6999.000000</td>\n",
       "      <td>-6999.000000</td>\n",
       "      <td>0.000000</td>\n",
       "    </tr>\n",
       "    <tr>\n",
       "      <th>25%</th>\n",
       "      <td>70.925000</td>\n",
       "      <td>241.400000</td>\n",
       "      <td>51.195000</td>\n",
       "      <td>-3.868000</td>\n",
       "      <td>1.911250</td>\n",
       "    </tr>\n",
       "    <tr>\n",
       "      <th>50%</th>\n",
       "      <td>152.000000</td>\n",
       "      <td>272.900000</td>\n",
       "      <td>68.165000</td>\n",
       "      <td>1.193000</td>\n",
       "      <td>2.657000</td>\n",
       "    </tr>\n",
       "    <tr>\n",
       "      <th>75%</th>\n",
       "      <td>235.500000</td>\n",
       "      <td>298.800000</td>\n",
       "      <td>83.300000</td>\n",
       "      <td>6.182000</td>\n",
       "      <td>3.583500</td>\n",
       "    </tr>\n",
       "    <tr>\n",
       "      <th>max</th>\n",
       "      <td>422.700000</td>\n",
       "      <td>6999.000000</td>\n",
       "      <td>107.300000</td>\n",
       "      <td>18.160000</td>\n",
       "      <td>21.620000</td>\n",
       "    </tr>\n",
       "  </tbody>\n",
       "</table>\n",
       "</div>"
      ],
      "text/plain": [
       "          sw_irrad     lw_irrad     humidity  temperature   wind_speed\n",
       "count  4722.000000  4722.000000  4316.000000  4609.000000  4722.000000\n",
       "mean    150.303213   277.060779    62.628214    -9.595999     2.901138\n",
       "std     272.167973   243.001406   153.481799   272.703525     1.743156\n",
       "min   -6999.000000   149.400000 -6999.000000 -6999.000000     0.000000\n",
       "25%      70.925000   241.400000    51.195000    -3.868000     1.911250\n",
       "50%     152.000000   272.900000    68.165000     1.193000     2.657000\n",
       "75%     235.500000   298.800000    83.300000     6.182000     3.583500\n",
       "max     422.700000  6999.000000   107.300000    18.160000    21.620000"
      ]
     },
     "execution_count": 14,
     "metadata": {},
     "output_type": "execute_result"
    }
   ],
   "source": [
    "meteo.describe()"
   ]
  },
  {
   "cell_type": "code",
   "execution_count": 15,
   "id": "52843892",
   "metadata": {},
   "outputs": [
    {
     "data": {
      "image/png": "[encoded data removed]",
      "text/plain": [
       "<Figure size 432x288 with 1 Axes>"
      ]
     },
     "metadata": {
      "needs_background": "light"
     },
     "output_type": "display_data"
    }
   ],
   "source": [
    "sns.boxplot(x=ablation['ablation']);"
   ]
  },
  {
   "cell_type": "code",
   "execution_count": 16,
   "id": "60b920ed",
   "metadata": {},
   "outputs": [
    {
     "data": {
      "image/png": "[encoded data removed]",
      "text/plain": [
       "<Figure size 432x288 with 1 Axes>"
      ]
     },
     "metadata": {
      "needs_background": "light"
     },
     "output_type": "display_data"
    }
   ],
   "source": [
    "sns.boxplot(x=accumulation['accumulation']);"
   ]
  },
  {
   "cell_type": "code",
   "execution_count": 17,
   "id": "c2f33f27",
   "metadata": {},
   "outputs": [
    {
     "data": {
      "image/png": "[encoded data removed]",
      "text/plain": [
       "<Figure size 432x288 with 1 Axes>"
      ]
     },
     "metadata": {
      "needs_background": "light"
     },
     "output_type": "display_data"
    }
   ],
   "source": [
    "sns.boxplot(x=meteo['sw_irrad']);"
   ]
  },
  {
   "cell_type": "code",
   "execution_count": 18,
   "id": "4e329696",
   "metadata": {},
   "outputs": [
    {
     "data": {
      "image/png": "[encoded data removed]",
      "text/plain": [
       "<Figure size 432x288 with 1 Axes>"
      ]
     },
     "metadata": {
      "needs_background": "light"
     },
     "output_type": "display_data"
    }
   ],
   "source": [
    "sns.boxplot(x=meteo['lw_irrad']);"
   ]
  },
  {
   "cell_type": "code",
   "execution_count": 19,
   "id": "66e0b5b5",
   "metadata": {},
   "outputs": [
    {
     "data": {
      "image/png": "[encoded data removed]",
      "text/plain": [
       "<Figure size 432x288 with 1 Axes>"
      ]
     },
     "metadata": {
      "needs_background": "light"
     },
     "output_type": "display_data"
    }
   ],
   "source": [
    "sns.boxplot(x=meteo['humidity']);"
   ]
  },
  {
   "cell_type": "code",
   "execution_count": 20,
   "id": "46cf6dd2",
   "metadata": {},
   "outputs": [
    {
     "data": {
      "image/png": "[encoded data removed]",
      "text/plain": [
       "<Figure size 432x288 with 1 Axes>"
      ]
     },
     "metadata": {
      "needs_background": "light"
     },
     "output_type": "display_data"
    }
   ],
   "source": [
    "sns.boxplot(x=meteo['temperature']);"
   ]
  },
  {
   "cell_type": "code",
   "execution_count": 21,
   "id": "3dd7936e",
   "metadata": {},
   "outputs": [
    {
     "data": {
      "image/png": "[encoded data removed]",
      "text/plain": [
       "<Figure size 432x288 with 1 Axes>"
      ]
     },
     "metadata": {
      "needs_background": "light"
     },
     "output_type": "display_data"
    }
   ],
   "source": [
    "sns.boxplot(x=meteo['wind_speed']);"
   ]
  },
  {
   "cell_type": "code",
   "execution_count": 22,
   "id": "8827424b",
   "metadata": {},
   "outputs": [
    {
     "data": {
      "text/html": [
       "<div>\n",
       "<style scoped>\n",
       "    .dataframe tbody tr th:only-of-type {\n",
       "        vertical-align: middle;\n",
       "    }\n",
       "\n",
       "    .dataframe tbody tr th {\n",
       "        vertical-align: top;\n",
       "    }\n",
       "\n",
       "    .dataframe thead th {\n",
       "        text-align: right;\n",
       "    }\n",
       "</style>\n",
       "<table border=\"1\" class=\"dataframe\">\n",
       "  <thead>\n",
       "    <tr style=\"text-align: right;\">\n",
       "      <th></th>\n",
       "      <th>sw_irrad</th>\n",
       "      <th>lw_irrad</th>\n",
       "      <th>humidity</th>\n",
       "      <th>temperature</th>\n",
       "      <th>wind_speed</th>\n",
       "    </tr>\n",
       "    <tr>\n",
       "      <th>date</th>\n",
       "      <th></th>\n",
       "      <th></th>\n",
       "      <th></th>\n",
       "      <th></th>\n",
       "      <th></th>\n",
       "    </tr>\n",
       "  </thead>\n",
       "  <tbody>\n",
       "    <tr>\n",
       "      <th>2013-11-08</th>\n",
       "      <td>-6999.0</td>\n",
       "      <td>6999.0</td>\n",
       "      <td>NaN</td>\n",
       "      <td>-6999.0</td>\n",
       "      <td>5.182</td>\n",
       "    </tr>\n",
       "    <tr>\n",
       "      <th>2013-11-09</th>\n",
       "      <td>-6999.0</td>\n",
       "      <td>254.7</td>\n",
       "      <td>NaN</td>\n",
       "      <td>-6999.0</td>\n",
       "      <td>3.934</td>\n",
       "    </tr>\n",
       "    <tr>\n",
       "      <th>2013-11-12</th>\n",
       "      <td>-6999.0</td>\n",
       "      <td>6999.0</td>\n",
       "      <td>NaN</td>\n",
       "      <td>-6999.0</td>\n",
       "      <td>2.402</td>\n",
       "    </tr>\n",
       "    <tr>\n",
       "      <th>2013-11-13</th>\n",
       "      <td>-6999.0</td>\n",
       "      <td>207.6</td>\n",
       "      <td>NaN</td>\n",
       "      <td>-6999.0</td>\n",
       "      <td>1.879</td>\n",
       "    </tr>\n",
       "    <tr>\n",
       "      <th>2013-11-14</th>\n",
       "      <td>-6999.0</td>\n",
       "      <td>247.4</td>\n",
       "      <td>NaN</td>\n",
       "      <td>-6999.0</td>\n",
       "      <td>2.907</td>\n",
       "    </tr>\n",
       "    <tr>\n",
       "      <th>2013-11-16</th>\n",
       "      <td>-6999.0</td>\n",
       "      <td>6999.0</td>\n",
       "      <td>NaN</td>\n",
       "      <td>-6999.0</td>\n",
       "      <td>1.948</td>\n",
       "    </tr>\n",
       "  </tbody>\n",
       "</table>\n",
       "</div>"
      ],
      "text/plain": [
       "            sw_irrad  lw_irrad  humidity  temperature  wind_speed\n",
       "date                                                             \n",
       "2013-11-08   -6999.0    6999.0       NaN      -6999.0       5.182\n",
       "2013-11-09   -6999.0     254.7       NaN      -6999.0       3.934\n",
       "2013-11-12   -6999.0    6999.0       NaN      -6999.0       2.402\n",
       "2013-11-13   -6999.0     207.6       NaN      -6999.0       1.879\n",
       "2013-11-14   -6999.0     247.4       NaN      -6999.0       2.907\n",
       "2013-11-16   -6999.0    6999.0       NaN      -6999.0       1.948"
      ]
     },
     "execution_count": 22,
     "metadata": {},
     "output_type": "execute_result"
    }
   ],
   "source": [
    "meteo[meteo['sw_irrad']< -1000]"
   ]
  },
  {
   "cell_type": "code",
   "execution_count": 23,
   "id": "6c9bbbf2",
   "metadata": {},
   "outputs": [],
   "source": [
    "def outliers(x):\n",
    "    if abs(x)  > 1000:\n",
    "        return None\n",
    "    else:\n",
    "        return x"
   ]
  },
  {
   "cell_type": "code",
   "execution_count": 24,
   "id": "60b38d69",
   "metadata": {},
   "outputs": [],
   "source": [
    "for col in ['sw_irrad', 'lw_irrad', 'humidity', 'temperature', 'wind_speed']:\n",
    "    meteo[col] = meteo[col].apply(outliers)\n",
    "    "
   ]
  },
  {
   "cell_type": "markdown",
   "id": "cf08d472",
   "metadata": {},
   "source": [
    "#### Null Values"
   ]
  },
  {
   "cell_type": "code",
   "execution_count": 25,
   "id": "b10d3d52",
   "metadata": {},
   "outputs": [],
   "source": [
    "meteo = meteo.fillna(method=\"ffill\")"
   ]
  },
  {
   "cell_type": "markdown",
   "id": "600659c1",
   "metadata": {},
   "source": [
    "#### New Tables"
   ]
  },
  {
   "cell_type": "code",
   "execution_count": 26,
   "id": "a63a425e",
   "metadata": {},
   "outputs": [],
   "source": [
    "abl_by_year = ablation.groupby(by=['year'])['ablation'].sum().reset_index()\n",
    "acc_by_year = accumulation.groupby(by=['year'])['accumulation'].sum().reset_index()\n",
    "smb = abl_by_year.merge(acc_by_year, on='year')\n"
   ]
  },
  {
   "cell_type": "markdown",
   "id": "9f7b1fcc",
   "metadata": {},
   "source": [
    "### Visualizations"
   ]
  },
  {
   "cell_type": "markdown",
   "id": "3a82ef2b",
   "metadata": {},
   "source": [
    "#### Ablation"
   ]
  },
  {
   "cell_type": "code",
   "execution_count": 27,
   "id": "631364b5",
   "metadata": {},
   "outputs": [
    {
     "data": {
      "text/plain": [
       "<AxesSubplot:xlabel='year', ylabel='ablation'>"
      ]
     },
     "execution_count": 27,
     "metadata": {},
     "output_type": "execute_result"
    },
    {
     "data": {
      "image/png": "[encoded data removed]",
      "text/plain": [
       "<Figure size 432x288 with 1 Axes>"
      ]
     },
     "metadata": {
      "needs_background": "light"
     },
     "output_type": "display_data"
    }
   ],
   "source": [
    "sns.barplot(x=abl_by_year['year'], y=abl_by_year['ablation'])"
   ]
  },
  {
   "cell_type": "markdown",
   "id": "e2b9d8db",
   "metadata": {},
   "source": [
    "#### Accumulation"
   ]
  },
  {
   "cell_type": "code",
   "execution_count": 28,
   "id": "cffa9893",
   "metadata": {},
   "outputs": [
    {
     "data": {
      "text/plain": [
       "<AxesSubplot:xlabel='year', ylabel='accumulation'>"
      ]
     },
     "execution_count": 28,
     "metadata": {},
     "output_type": "execute_result"
    },
    {
     "data": {
      "image/png": "[encoded data removed]",
      "text/plain": [
       "<Figure size 432x288 with 1 Axes>"
      ]
     },
     "metadata": {
      "needs_background": "light"
     },
     "output_type": "display_data"
    }
   ],
   "source": [
    "sns.barplot(x=acc_by_year['year'], y=acc_by_year['accumulation'])"
   ]
  },
  {
   "cell_type": "markdown",
   "id": "46161744",
   "metadata": {},
   "source": [
    "#### Meteo Seasonality"
   ]
  },
  {
   "cell_type": "code",
   "execution_count": 29,
   "id": "88758de5",
   "metadata": {},
   "outputs": [
    {
     "data": {
      "image/png": "[encoded data removed]",
      "text/plain": [
       "<Figure size 864x864 with 4 Axes>"
      ]
     },
     "metadata": {
      "needs_background": "light"
     },
     "output_type": "display_data"
    }
   ],
   "source": [
    "res = sm.tsa.seasonal_decompose(meteo.temperature)\n",
    "with plt.rc_context():\n",
    "    plt.rc(\"figure\", figsize=(12,12))\n",
    "    res.plot()"
   ]
  },
  {
   "cell_type": "code",
   "execution_count": 30,
   "id": "ae09540b",
   "metadata": {},
   "outputs": [
    {
     "data": {
      "text/plain": [
       "2.086282032991226e-05"
      ]
     },
     "execution_count": 30,
     "metadata": {},
     "output_type": "execute_result"
    }
   ],
   "source": [
    "adfuller(meteo.temperature)[1]"
   ]
  },
  {
   "cell_type": "markdown",
   "id": "11a66b47",
   "metadata": {},
   "source": [
    "## Time Series Model\n",
    "### ARIMA\n",
    "#### Temperature"
   ]
  },
  {
   "cell_type": "code",
   "execution_count": 31,
   "id": "a8705d93",
   "metadata": {},
   "outputs": [],
   "source": [
    "train, test = meteo.temperature[:-50], meteo.temperature[-50:]\n",
    "\n",
    "model = ARIMA(train, order=[12, 0, 0])\n",
    "model_fit = model.fit()\n",
    "predictions = model_fit.predict(start=len(train), end=len(train)+len(test))\n",
    "predictions = predictions.reset_index()"
   ]
  },
  {
   "cell_type": "code",
   "execution_count": 32,
   "id": "3e4c5036",
   "metadata": {},
   "outputs": [
    {
     "data": {
      "text/html": [
       "<div>\n",
       "<style scoped>\n",
       "    .dataframe tbody tr th:only-of-type {\n",
       "        vertical-align: middle;\n",
       "    }\n",
       "\n",
       "    .dataframe tbody tr th {\n",
       "        vertical-align: top;\n",
       "    }\n",
       "\n",
       "    .dataframe thead th {\n",
       "        text-align: right;\n",
       "    }\n",
       "</style>\n",
       "<table border=\"1\" class=\"dataframe\">\n",
       "  <thead>\n",
       "    <tr style=\"text-align: right;\">\n",
       "      <th></th>\n",
       "      <th>index</th>\n",
       "      <th>predicted_mean</th>\n",
       "      <th>test</th>\n",
       "    </tr>\n",
       "  </thead>\n",
       "  <tbody>\n",
       "    <tr>\n",
       "      <th>0</th>\n",
       "      <td>2019-11-12</td>\n",
       "      <td>-3.398354</td>\n",
       "      <td>-8.180</td>\n",
       "    </tr>\n",
       "    <tr>\n",
       "      <th>1</th>\n",
       "      <td>2019-11-13</td>\n",
       "      <td>-3.180419</td>\n",
       "      <td>-8.620</td>\n",
       "    </tr>\n",
       "    <tr>\n",
       "      <th>2</th>\n",
       "      <td>2019-11-14</td>\n",
       "      <td>-3.030515</td>\n",
       "      <td>-4.916</td>\n",
       "    </tr>\n",
       "    <tr>\n",
       "      <th>3</th>\n",
       "      <td>2019-11-15</td>\n",
       "      <td>-3.032273</td>\n",
       "      <td>-6.595</td>\n",
       "    </tr>\n",
       "    <tr>\n",
       "      <th>4</th>\n",
       "      <td>2019-11-16</td>\n",
       "      <td>-2.942784</td>\n",
       "      <td>-7.833</td>\n",
       "    </tr>\n",
       "  </tbody>\n",
       "</table>\n",
       "</div>"
      ],
      "text/plain": [
       "       index  predicted_mean   test\n",
       "0 2019-11-12       -3.398354 -8.180\n",
       "1 2019-11-13       -3.180419 -8.620\n",
       "2 2019-11-14       -3.030515 -4.916\n",
       "3 2019-11-15       -3.032273 -6.595\n",
       "4 2019-11-16       -2.942784 -7.833"
      ]
     },
     "execution_count": 32,
     "metadata": {},
     "output_type": "execute_result"
    }
   ],
   "source": [
    "test = test.reset_index()\n",
    "pred_test = predictions.copy()\n",
    "pred_test['test'] = test['temperature']\n",
    "pred_test.head()"
   ]
  },
  {
   "cell_type": "code",
   "execution_count": 33,
   "id": "73d496c0",
   "metadata": {},
   "outputs": [
    {
     "data": {
      "text/plain": [
       "<AxesSubplot:xlabel='predicted_mean', ylabel='test'>"
      ]
     },
     "execution_count": 33,
     "metadata": {},
     "output_type": "execute_result"
    },
    {
     "data": {
      "image/png": "[encoded data removed]",
      "text/plain": [
       "<Figure size 432x288 with 1 Axes>"
      ]
     },
     "metadata": {
      "needs_background": "light"
     },
     "output_type": "display_data"
    }
   ],
   "source": [
    "sns.scatterplot(data=pred_test, x='predicted_mean', y='test')"
   ]
  },
  {
   "cell_type": "markdown",
   "id": "24f2c914",
   "metadata": {},
   "source": [
    "### Store Dataframes"
   ]
  },
  {
   "cell_type": "code",
   "execution_count": 35,
   "id": "33b683dd",
   "metadata": {},
   "outputs": [],
   "source": [
    "meteo.to_csv('../dataframes/meteo_temp.csv')\n",
    "abl_by_year.to_csv('../dataframes/annual_abl.csv')\n",
    "acc_by_year.to_csv('../dataframes/annual_acc.csv')\n",
    "smb.to_csv('../dataframes/smb.csv')\n",
    "predictions.to_csv('../dataframes/pred.csv')\n",
    "pred_test.to_csv('../dataframes/pred-test.csv')"
   ]
  }
 ],
 "metadata": {
  "kernelspec": {
   "display_name": "Python 3",
   "language": "python",
   "name": "python3"
  },
  "language_info": {
   "codemirror_mode": {
    "name": "ipython",
    "version": 3
   },
   "file_extension": ".py",
   "mimetype": "text/x-python",
   "name": "python",
   "nbconvert_exporter": "python",
   "pygments_lexer": "ipython3",
   "version": "3.8.10"
  }
 },
 "nbformat": 4,
 "nbformat_minor": 5
}
